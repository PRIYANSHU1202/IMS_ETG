{
  "nbformat": 4,
  "nbformat_minor": 0,
  "metadata": {
    "colab": {
      "name": "IMS Update.ipynb",
      "provenance": [],
      "collapsed_sections": [],
      "authorship_tag": "ABX9TyMBJb74I5AFAXqV4stkvwB/",
      "include_colab_link": true
    },
    "kernelspec": {
      "name": "python3",
      "display_name": "Python 3"
    },
    "language_info": {
      "name": "python"
    }
  },
  "cells": [
    {
      "cell_type": "markdown",
      "metadata": {
        "id": "view-in-github",
        "colab_type": "text"
      },
      "source": [
        "<a href=\"https://colab.research.google.com/github/PRIYANSHU1202/IMS_ETG/blob/main/IMS_Update.ipynb\" target=\"_parent\"><img src=\"https://colab.research.google.com/assets/colab-badge.svg\" alt=\"Open In Colab\"/></a>"
      ]
    },
    {
      "cell_type": "code",
      "metadata": {
        "id": "lHyXoQ-ZuWO8"
      },
      "source": [
        "import json \n",
        "fd=open(\"product.json\",\"r\")\n",
        "reading=fd.read()\n",
        "product=json.loads(reading)\n",
        "fd.close()"
      ],
      "execution_count": null,
      "outputs": []
    },
    {
      "cell_type": "code",
      "metadata": {
        "id": "ItJqrLpRuuFl"
      },
      "source": [
        "print(\"Product Update\")\n",
        "print(\"Enter the product ID you want to update: \")\n",
        "product_ID=str(input())\n",
        "print(\"Enter the quantity you want to add to the current quantity: \")\n",
        "quantity=int(input())\n",
        "product[product_ID][\"Quantity\"]=product[product_ID][\"Quantity\"]+quantity\n",
        "print(\"Quantity has been updated!!\")\n",
        "js1=json.dumps(product)\n",
        "product_updated=open(\"product.json\",\"w\")\n",
        "product_updated.write(js1)\n",
        "product_updated.close()\n"
      ],
      "execution_count": null,
      "outputs": []
    }
  ]
}