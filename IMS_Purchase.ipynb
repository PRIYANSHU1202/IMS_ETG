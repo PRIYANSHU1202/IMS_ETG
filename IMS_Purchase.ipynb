{
  "nbformat": 4,
  "nbformat_minor": 0,
  "metadata": {
    "colab": {
      "name": "IMS Purchase.ipynb",
      "provenance": [],
      "collapsed_sections": [],
      "authorship_tag": "ABX9TyMjCBFdveAm/BdDPapin7Zv",
      "include_colab_link": true
    },
    "kernelspec": {
      "name": "python3",
      "display_name": "Python 3"
    },
    "language_info": {
      "name": "python"
    }
  },
  "cells": [
    {
      "cell_type": "markdown",
      "metadata": {
        "id": "view-in-github",
        "colab_type": "text"
      },
      "source": [
        "<a href=\"https://colab.research.google.com/github/PRIYANSHU1202/IMS_ETG/blob/main/IMS_Purchase.ipynb\" target=\"_parent\"><img src=\"https://colab.research.google.com/assets/colab-badge.svg\" alt=\"Open In Colab\"/></a>"
      ]
    },
    {
      "cell_type": "code",
      "metadata": {
        "id": "hYWtIxYySfdr"
      },
      "source": [
        "fd=open(\"product.json\",\"r\")\n",
        "p=fd.read()\n",
        "product=json.loads(p)\n",
        "fd1=open(\"transaction.json\",\"r\")\n",
        "fd2=fd1.read()\n",
        "transaction=json.loads(fd2)"
      ],
      "execution_count": null,
      "outputs": []
    },
    {
      "cell_type": "code",
      "metadata": {
        "id": "u37tPXcEcSZh"
      },
      "source": [
        "print(\"Welcome To SmartPhone Store\")\n",
        "print(\"Here are the products we have\")\n",
        "for i in product:\n",
        "  print(\"Product ID\",i,\":\",\"Product Name-\",product[i][\"Name\"],\"|Price-\",product[i][\"Price\"],\"|Ram-\",product[i][\"Ram\"],\"|Rom-\",product[i][\"Rom\"],\"|Battery-\",product[i][\"Battery\"],product[i][\"Quantity\"])\n",
        "print(\"Would you like to buy SmartPhone\")\n",
        "print(\"Y/N\")\n",
        "ans=str(input())\n",
        "if(ans==\"y\" or ans==\"Y\"):\n",
        "  print(\"Enter the product ID: \")\n",
        "  n=int(input())\n",
        "  if str(n) in product:\n",
        "    pass\n",
        "  else:\n",
        "    print(\"Please enter a Valid Product ID!\")\n",
        "else:\n",
        "  print(\"See You Soon!!\")\n",
        "bill_amount=0\n",
        "from datetime import datetime\n",
        "now = datetime.now()\n",
        "time = now.strftime(\"%d/%m/%Y %H:%M:%S\")\n",
        "quantity=int(input(\"Enter the quantity for \"+product[str(n)][\"Name\"]+\": \"))\n",
        "if(quantity>product[str(i)][\"Quantity\"]):\n",
        "  print(\"Only\",product[str(i)][\"Quantity\"],\"are available.\")\n",
        "  exit()\n",
        "else:\n",
        "  bill_amount=bill_amount+product[str(n)][\"Price\"]*quantity\n",
        "  product[str(n)][\"Quantity\"]=product[str(n)][\"Quantity\"]-quantity\n",
        "  transaction_store=str(quantity)+\" pieces of \"+product[str(n)][\"Name\"]+\" are sold.\"\n",
        "  transaction[time]=transaction_store\n",
        "print(\"*******************\")\n",
        "print(\"Your final Bill is :\",bill_amount)\n",
        "print(\"*******************\")\n",
        "js1=json.dumps(product)\n",
        "product_updated=open(\"product.json\",\"w\")\n",
        "product_updated.write(js1)\n",
        "js2=json.dumps(transaction)\n",
        "transaction_updated=open(\"transaction.json\",\"w\")\n",
        "transaction_updated.write(js2)\n",
        "product_updated.close()\n",
        "transaction_updated.close()\n"
      ],
      "execution_count": null,
      "outputs": []
    }
  ]
}